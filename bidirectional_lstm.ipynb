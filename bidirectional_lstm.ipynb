{
 "cells": [
  {
   "cell_type": "code",
   "execution_count": 2,
   "metadata": {},
   "outputs": [],
   "source": [
    "import pandas as pd\n",
    "import requests\n",
    "import json\n",
    "import matplotlib.pyplot as plt\n",
    "import datetime\n",
    "import numpy as np\n",
    "import seaborn as sns\n",
    "import tensorflow as tf\n",
    "import IPython\n",
    "import IPython.display\n",
    "import matplotlib as mpl\n",
    "import matplotlib.pyplot as plt\n",
    "import keras\n",
    "from keras.models import Sequential\n",
    "from keras.layers import LSTM\n",
    "from keras.layers import Dense"
   ]
  },
  {
   "cell_type": "code",
   "execution_count": 3,
   "metadata": {},
   "outputs": [],
   "source": [
    "df = pd.read_csv(\"IB_indexed.csv\")\n",
    "df = df.set_index(['UploadTime'])\n",
    "df.index = pd.to_datetime(df.index)\n",
    "# df.to_csv(\"IB_indexed.csv\")"
   ]
  },
  {
   "cell_type": "code",
   "execution_count": 4,
   "metadata": {},
   "outputs": [],
   "source": [
    "df_cc_resample = df.Usage_CC.resample('h').sum()"
   ]
  },
  {
   "cell_type": "code",
   "execution_count": 4,
   "metadata": {},
   "outputs": [
    {
     "data": {
      "text/plain": [
       "UploadTime\n",
       "2020-08-10 00:00:00     98754.0\n",
       "2020-08-10 01:00:00    216580.0\n",
       "2020-08-10 02:00:00    224280.0\n",
       "2020-08-10 03:00:00    224280.0\n",
       "2020-08-10 04:00:00    224164.0\n",
       "                         ...   \n",
       "2020-09-13 19:00:00    231078.0\n",
       "2020-09-13 20:00:00    171252.0\n",
       "2020-09-13 21:00:00    171480.0\n",
       "2020-09-13 22:00:00    170635.0\n",
       "2020-09-13 23:00:00     93794.0\n",
       "Freq: H, Name: Usage_CC, Length: 840, dtype: float64"
      ]
     },
     "metadata": {},
     "output_type": "display_data"
    }
   ],
   "source": [
    "display(df_cc_resample)"
   ]
  },
  {
   "cell_type": "code",
   "execution_count": 5,
   "metadata": {},
   "outputs": [
    {
     "data": {
      "text/plain": [
       "count       840.000000\n",
       "mean     176490.157143\n",
       "std       51443.668562\n",
       "min       31238.000000\n",
       "25%      140520.000000\n",
       "50%      176675.500000\n",
       "75%      209464.500000\n",
       "max      326492.000000\n",
       "Name: Usage_CC, dtype: float64"
      ]
     },
     "metadata": {},
     "output_type": "display_data"
    }
   ],
   "source": [
    "description = df_cc_resample.describe().transpose()\n",
    "display(description)"
   ]
  },
  {
   "cell_type": "code",
   "execution_count": 5,
   "metadata": {},
   "outputs": [],
   "source": [
    "# split data into train, val, and test\n",
    "n = len(df_cc_resample)\n",
    "train_df = df_cc_resample[0:int(n*0.7)]\n",
    "val_df = df_cc_resample[int(n*0.7):int(n*0.9)]\n",
    "test_df = df_cc_resample[int(n*0.9):]"
   ]
  },
  {
   "cell_type": "code",
   "execution_count": 13,
   "metadata": {},
   "outputs": [
    {
     "name": "stdout",
     "output_type": "stream",
     "text": [
      "UploadTime\n",
      "2020-08-10 00:00:00     98754.0\n",
      "2020-08-10 01:00:00    216580.0\n",
      "2020-08-10 02:00:00    224280.0\n",
      "2020-08-10 03:00:00    224280.0\n",
      "2020-08-10 04:00:00    224164.0\n",
      "                         ...   \n",
      "2020-09-03 07:00:00    167124.0\n",
      "2020-09-03 08:00:00    168114.0\n",
      "2020-09-03 09:00:00    162420.0\n",
      "2020-09-03 10:00:00    170294.0\n",
      "2020-09-03 11:00:00    158286.0\n",
      "Freq: H, Name: Usage_CC, Length: 588, dtype: float64\n"
     ]
    }
   ],
   "source": [
    "print(train_df)"
   ]
  },
  {
   "cell_type": "code",
   "execution_count": 21,
   "metadata": {},
   "outputs": [],
   "source": [
    "train_mean = train_df.mean()\n",
    "train_std = train_df.std()\n",
    "\n",
    "train_df = (train_df - train_mean) / train_std\n",
    "val_df = (val_df - train_mean) / train_std\n",
    "test_df = (test_df - train_mean) / train_std"
   ]
  },
  {
   "cell_type": "code",
   "execution_count": 22,
   "metadata": {},
   "outputs": [],
   "source": [
    "def split_window(sequence, steps):\n",
    "    x_input, y_label = list(), list()\n",
    "    for i in range(len(sequence)):\n",
    "        window_end = i + steps\n",
    "        if window_end == len(sequence):\n",
    "            break\n",
    "#         x_input.append(sequence.values[i:window_end])\n",
    "        x_input.append(sequence[i:window_end])\n",
    "        y_label.append(sequence[window_end])\n",
    "    return np.array(x_input), np.array(y_label)"
   ]
  },
  {
   "cell_type": "code",
   "execution_count": 23,
   "metadata": {},
   "outputs": [],
   "source": [
    "# split to 6-hr windows, 5 inputs and 1 label\n",
    "n_steps = 5\n",
    "x_train, y_train = split_window(train_df, 5)\n",
    "x_val, y_val = split_window(val_df, 5)\n",
    "x_test, y_test = split_window(test_df, 5)\n",
    "# for i in range(len(x)):\n",
    "#     print(x[i], y[i])"
   ]
  },
  {
   "cell_type": "code",
   "execution_count": 24,
   "metadata": {},
   "outputs": [],
   "source": [
    "# reshape from [samples, timesteps] to [samples, timesteps, features]\n",
    "n_features = 1\n",
    "x_train = x_train.reshape(x_train.shape[0],x_train.shape[1],n_features)\n",
    "x_val = x_val.reshape(x_val.shape[0],x_val.shape[1],n_features)\n",
    "x_test = x_test.reshape(x_test.shape[0],x_test.shape[1],n_features)"
   ]
  },
  {
   "cell_type": "code",
   "execution_count": 25,
   "metadata": {},
   "outputs": [
    {
     "name": "stdout",
     "output_type": "stream",
     "text": [
      "[[[-1.6500697 ]\n",
      "  [ 0.70825332]\n",
      "  [ 0.86237115]\n",
      "  [ 0.86237115]\n",
      "  [ 0.86004937]]\n",
      "\n",
      " [[ 0.70825332]\n",
      "  [ 0.86237115]\n",
      "  [ 0.86237115]\n",
      "  [ 0.86004937]\n",
      "  [ 0.86237115]]\n",
      "\n",
      " [[ 0.86237115]\n",
      "  [ 0.86237115]\n",
      "  [ 0.86004937]\n",
      "  [ 0.86237115]\n",
      "  [ 0.86237115]]\n",
      "\n",
      " ...\n",
      "\n",
      " [[-0.31669028]\n",
      "  [-0.31669028]\n",
      "  [-0.31669028]\n",
      "  [-0.28162347]\n",
      "  [-0.26180832]]\n",
      "\n",
      " [[-0.31669028]\n",
      "  [-0.31669028]\n",
      "  [-0.28162347]\n",
      "  [-0.26180832]\n",
      "  [-0.37577546]]\n",
      "\n",
      " [[-0.31669028]\n",
      "  [-0.28162347]\n",
      "  [-0.26180832]\n",
      "  [-0.37577546]\n",
      "  [-0.21817497]]]\n"
     ]
    }
   ],
   "source": [
    "print(x_train)"
   ]
  },
  {
   "cell_type": "code",
   "execution_count": 26,
   "metadata": {},
   "outputs": [],
   "source": [
    "# wrap first hidden layer in a wrapper layer called bidirectional\n",
    "model = Sequential()\n",
    "model.add(tf.keras.layers.Bidirectional(LSTM(50, activation='relu'), input_shape=(n_steps, n_features)))\n",
    "model.add(Dense(1))\n",
    "model.compile(optimizer='adam', # optimizer\n",
    "              loss='mse',\n",
    "              metrics=[tf.metrics.MeanAbsoluteError()]) # loss function # metrics to monitor"
   ]
  },
  {
   "cell_type": "code",
   "execution_count": 27,
   "metadata": {},
   "outputs": [
    {
     "data": {
      "text/plain": [
       "<tensorflow.python.keras.callbacks.History at 0x7f237c401fa0>"
      ]
     },
     "execution_count": 27,
     "metadata": {},
     "output_type": "execute_result"
    }
   ],
   "source": [
    "# fit model\n",
    "model.fit(x_train, y_train, epochs=200, verbose=0\n",
    "          , validation_data=(x_val, y_val)\n",
    "         )"
   ]
  },
  {
   "cell_type": "code",
   "execution_count": 28,
   "metadata": {},
   "outputs": [
    {
     "name": "stdout",
     "output_type": "stream",
     "text": [
      "3/3 [==============================] - 0s 738us/step - loss: 0.4071 - mean_absolute_error: 0.4244\n"
     ]
    }
   ],
   "source": [
    "# evaluate model using test data\n",
    "results = model.evaluate(x_test, y_test)"
   ]
  },
  {
   "cell_type": "code",
   "execution_count": 29,
   "metadata": {},
   "outputs": [
    {
     "name": "stdout",
     "output_type": "stream",
     "text": [
      "[[-0.3596328 ]\n",
      " [-0.27961496]\n",
      " [-0.08115198]\n",
      " [ 0.12706047]\n",
      " [ 1.574698  ]\n",
      " [-0.08351994]\n",
      " [-0.1395106 ]\n",
      " [ 0.01084549]\n",
      " [ 0.7335277 ]\n",
      " [ 0.06561013]\n",
      " [ 0.21224934]\n",
      " [-0.00394856]\n",
      " [ 0.14717954]\n",
      " [ 0.1327321 ]\n",
      " [ 0.17693102]\n",
      " [-0.15583637]\n",
      " [-0.3665803 ]\n",
      " [-0.12222236]\n",
      " [-0.89429575]\n",
      " [-0.46610233]\n",
      " [-0.74549705]\n",
      " [-0.45010474]\n",
      " [-0.3425083 ]\n",
      " [-0.631902  ]\n",
      " [ 0.5034037 ]\n",
      " [ 0.7060448 ]\n",
      " [ 0.26401213]\n",
      " [ 0.62915975]\n",
      " [-0.45328164]\n",
      " [-0.6618303 ]\n",
      " [-0.66439736]\n",
      " [-0.73012567]\n",
      " [-0.6680139 ]\n",
      " [-0.7243933 ]\n",
      " [-0.7152265 ]\n",
      " [-0.71385705]\n",
      " [-0.71359944]\n",
      " [-0.7122072 ]\n",
      " [-0.7132302 ]\n",
      " [-0.71448314]\n",
      " [-0.7142275 ]\n",
      " [-0.71294403]\n",
      " [-0.7122485 ]\n",
      " [-0.7136725 ]\n",
      " [-0.7217946 ]\n",
      " [-0.71688116]\n",
      " [-0.69560933]\n",
      " [-0.78365993]\n",
      " [-1.2342973 ]\n",
      " [-1.9909064 ]\n",
      " [-1.98381   ]\n",
      " [-2.178278  ]\n",
      " [-2.645723  ]\n",
      " [-1.973041  ]\n",
      " [-1.0275562 ]\n",
      " [-0.94527626]\n",
      " [-1.1574308 ]\n",
      " [-1.3374368 ]\n",
      " [-1.9918063 ]\n",
      " [-2.1241882 ]\n",
      " [-1.9894469 ]\n",
      " [-1.985985  ]\n",
      " [-1.9819267 ]\n",
      " [-1.9838011 ]\n",
      " [-1.9780339 ]\n",
      " [-1.9852378 ]\n",
      " [-1.9842864 ]\n",
      " [-0.776061  ]\n",
      " [-0.04219026]\n",
      " [ 0.04748332]\n",
      " [ 0.07423728]\n",
      " [-0.08642307]\n",
      " [-0.90179384]\n",
      " [ 0.2585236 ]\n",
      " [ 0.88853693]\n",
      " [ 0.5634769 ]\n",
      " [ 0.12513307]\n",
      " [-0.19948396]\n",
      " [-0.20375955]]\n"
     ]
    }
   ],
   "source": [
    "# generate predictions\n",
    "predictions = model.predict(x_test, verbose=0)\n",
    "print(predictions)"
   ]
  },
  {
   "cell_type": "code",
   "execution_count": 14,
   "metadata": {},
   "outputs": [
    {
     "data": {
      "text/plain": [
       "<matplotlib.collections.PathCollection at 0x7f237edfa850>"
      ]
     },
     "execution_count": 14,
     "metadata": {},
     "output_type": "execute_result"
    },
    {
     "data": {
      "image/png": "[encoded data removed]",
      "text/plain": [
       "<Figure size 432x288 with 1 Axes>"
      ]
     },
     "metadata": {
      "needs_background": "light"
     },
     "output_type": "display_data"
    }
   ],
   "source": [
    "# blue line\n",
    "plt.plot(x_train[0], x_train[1],\n",
    "        label='Inputs', marker='.', zorder=-10)\n",
    "# green dots\n",
    "plt.scatter(x_test[0], x_test[1],\n",
    "            edgecolors='k', label='Labels', c='#2ca02c', s=64)\n",
    "# orange x's\n",
    "plt.scatter(predictions[0], predictions[1],\n",
    "            marker='X', edgecolors='k', label='Predictions',\n",
    "            c='#ff7f0e', s=64)"
   ]
  },
  {
   "cell_type": "code",
   "execution_count": 16,
   "metadata": {},
   "outputs": [
    {
     "name": "stdout",
     "output_type": "stream",
     "text": [
      "(79, 1)\n",
      "(84,)\n"
     ]
    },
    {
     "data": {
      "text/plain": [
       "<matplotlib.collections.PathCollection at 0x7f237cc9fc70>"
      ]
     },
     "execution_count": 16,
     "metadata": {},
     "output_type": "execute_result"
    },
    {
     "data": {
      "image/png": "[encoded data removed]",
      "text/plain": [
       "<Figure size 432x288 with 1 Axes>"
      ]
     },
     "metadata": {
      "needs_background": "light"
     },
     "output_type": "display_data"
    }
   ],
   "source": [
    "print(predictions.shape)\n",
    "print(test_df.index.shape)\n",
    "# blue line\n",
    "plt.plot(train_df.index[n_steps:], y_train,\n",
    "        label='Inputs', marker='.', zorder=-10)\n",
    "# purple line\n",
    "plt.plot(val_df.index[n_steps:], y_val,\n",
    "        label='Val', marker='.', zorder=-10)\n",
    "# green dots\n",
    "plt.scatter(test_df.index[n_steps:], y_test,\n",
    "            edgecolors='k', label='Labels', c='#2ca02c', s=64)\n",
    "# orange x's\n",
    "plt.scatter(test_df.index[n_steps:], predictions,\n",
    "            marker='X', edgecolors='k', label='Predictions',\n",
    "            c='#ff7f0e', s=64)"
   ]
  },
  {
   "cell_type": "code",
   "execution_count": 17,
   "metadata": {},
   "outputs": [
    {
     "data": {
      "text/plain": [
       "(18516.0, 18518.0)"
      ]
     },
     "execution_count": 17,
     "metadata": {},
     "output_type": "execute_result"
    },
    {
     "data": {
      "image/png": "[encoded data removed]",
      "text/plain": [
       "<Figure size 432x288 with 1 Axes>"
      ]
     },
     "metadata": {
      "needs_background": "light"
     },
     "output_type": "display_data"
    }
   ],
   "source": [
    "# blue line\n",
    "plt.plot(train_df.index[n_steps:], y_train,\n",
    "        label='Inputs', marker='.', zorder=-10)\n",
    "# purple line\n",
    "plt.plot(val_df.index[n_steps:], y_val,\n",
    "        label='Val', marker='.', zorder=-10)\n",
    "# green dots\n",
    "plt.scatter(test_df.index[n_steps:], y_test,\n",
    "            edgecolors='k', label='Labels', c='#2ca02c', s=64)\n",
    "# orange x's\n",
    "plt.scatter(test_df.index[n_steps:], predictions,\n",
    "            marker='X', edgecolors='k', label='Predictions',\n",
    "            c='#ff7f0e', s=64)\n",
    "axes = plt.gca()\n",
    "axes.set_xlim([datetime.datetime.strptime(\"2020-09-11 00:00:00\", \"%Y-%m-%d %H:%M:%S\"), datetime.datetime.strptime(\"2020-09-13 00:00:00\", \"%Y-%m-%d %H:%M:%S\")])"
   ]
  }
 ],
 "metadata": {
  "kernelspec": {
   "display_name": "Python 3",
   "language": "python",
   "name": "python3"
  },
  "language_info": {
   "codemirror_mode": {
    "name": "ipython",
    "version": 3
   },
   "file_extension": ".py",
   "mimetype": "text/x-python",
   "name": "python",
   "nbconvert_exporter": "python",
   "pygments_lexer": "ipython3",
   "version": "3.8.5"
  }
 },
 "nbformat": 4,
 "nbformat_minor": 4
}
